{
  "nbformat": 4,
  "nbformat_minor": 0,
  "metadata": {
    "colab": {
      "provenance": []
    },
    "kernelspec": {
      "name": "python3",
      "display_name": "Python 3"
    },
    "language_info": {
      "name": "python"
    }
  },
  "cells": [
    {
      "cell_type": "code",
      "source": [
        "!pip install gradio -q"
      ],
      "metadata": {
        "colab": {
          "base_uri": "https://localhost:8080/"
        },
        "id": "BzHAx5vdX1Lw",
        "outputId": "7ad44b3d-c841-4866-c300-f40eb60acb50"
      },
      "execution_count": 1,
      "outputs": [
        {
          "output_type": "stream",
          "name": "stdout",
          "text": [
            "\u001b[2K     \u001b[90m━━━━━━━━━━━━━━━━━━━━━━━━━━━━━━━━━━━━━━━━\u001b[0m \u001b[32m17.3/17.3 MB\u001b[0m \u001b[31m69.6 MB/s\u001b[0m eta \u001b[36m0:00:00\u001b[0m\n",
            "\u001b[2K     \u001b[90m━━━━━━━━━━━━━━━━━━━━━━━━━━━━━━━━━━━━━━━━\u001b[0m \u001b[32m57.0/57.0 kB\u001b[0m \u001b[31m4.1 MB/s\u001b[0m eta \u001b[36m0:00:00\u001b[0m\n",
            "\u001b[2K     \u001b[90m━━━━━━━━━━━━━━━━━━━━━━━━━━━━━━━━━━━━━━━\u001b[0m \u001b[32m137.2/137.2 kB\u001b[0m \u001b[31m7.8 MB/s\u001b[0m eta \u001b[36m0:00:00\u001b[0m\n",
            "\u001b[2K     \u001b[90m━━━━━━━━━━━━━━━━━━━━━━━━━━━━━━━━━━━━━━━━\u001b[0m \u001b[32m75.3/75.3 kB\u001b[0m \u001b[31m7.3 MB/s\u001b[0m eta \u001b[36m0:00:00\u001b[0m\n",
            "\u001b[2K     \u001b[90m━━━━━━━━━━━━━━━━━━━━━━━━━━━━━━━━━━━━━━━━\u001b[0m \u001b[32m1.0/1.0 MB\u001b[0m \u001b[31m46.5 MB/s\u001b[0m eta \u001b[36m0:00:00\u001b[0m\n",
            "\u001b[2K     \u001b[90m━━━━━━━━━━━━━━━━━━━━━━━━━━━━━━━━━━━━━━\u001b[0m \u001b[32m224.5/224.5 kB\u001b[0m \u001b[31m17.2 MB/s\u001b[0m eta \u001b[36m0:00:00\u001b[0m\n",
            "\u001b[?25h  Preparing metadata (setup.py) ... \u001b[?25l\u001b[?25hdone\n",
            "\u001b[2K     \u001b[90m━━━━━━━━━━━━━━━━━━━━━━━━━━━━━━━━━━━━━━━━\u001b[0m \u001b[32m45.7/45.7 kB\u001b[0m \u001b[31m2.7 MB/s\u001b[0m eta \u001b[36m0:00:00\u001b[0m\n",
            "\u001b[2K     \u001b[90m━━━━━━━━━━━━━━━━━━━━━━━━━━━━━━━━━━━━━━━\u001b[0m \u001b[32m287.9/287.9 kB\u001b[0m \u001b[31m7.7 MB/s\u001b[0m eta \u001b[36m0:00:00\u001b[0m\n",
            "\u001b[2K     \u001b[90m━━━━━━━━━━━━━━━━━━━━━━━━━━━━━━━━━━━━━━━━\u001b[0m \u001b[32m58.3/58.3 kB\u001b[0m \u001b[31m4.3 MB/s\u001b[0m eta \u001b[36m0:00:00\u001b[0m\n",
            "\u001b[2K     \u001b[90m━━━━━━━━━━━━━━━━━━━━━━━━━━━━━━━━━━━━━━━\u001b[0m \u001b[32m129.9/129.9 kB\u001b[0m \u001b[31m8.2 MB/s\u001b[0m eta \u001b[36m0:00:00\u001b[0m\n",
            "\u001b[2K     \u001b[90m━━━━━━━━━━━━━━━━━━━━━━━━━━━━━━━━━━━━━━━━\u001b[0m \u001b[32m50.5/50.5 kB\u001b[0m \u001b[31m3.8 MB/s\u001b[0m eta \u001b[36m0:00:00\u001b[0m\n",
            "\u001b[2K     \u001b[90m━━━━━━━━━━━━━━━━━━━━━━━━━━━━━━━━━━━━━━\u001b[0m \u001b[32m268.8/268.8 kB\u001b[0m \u001b[31m11.4 MB/s\u001b[0m eta \u001b[36m0:00:00\u001b[0m\n",
            "\u001b[2K     \u001b[90m━━━━━━━━━━━━━━━━━━━━━━━━━━━━━━━━━━━━━━\u001b[0m \u001b[32m149.6/149.6 kB\u001b[0m \u001b[31m12.0 MB/s\u001b[0m eta \u001b[36m0:00:00\u001b[0m\n",
            "\u001b[2K     \u001b[90m━━━━━━━━━━━━━━━━━━━━━━━━━━━━━━━━━━━━━━━\u001b[0m \u001b[32m114.5/114.5 kB\u001b[0m \u001b[31m8.5 MB/s\u001b[0m eta \u001b[36m0:00:00\u001b[0m\n",
            "\u001b[2K     \u001b[90m━━━━━━━━━━━━━━━━━━━━━━━━━━━━━━━━━━━━━━━━\u001b[0m \u001b[32m66.9/66.9 kB\u001b[0m \u001b[31m3.6 MB/s\u001b[0m eta \u001b[36m0:00:00\u001b[0m\n",
            "\u001b[2K     \u001b[90m━━━━━━━━━━━━━━━━━━━━━━━━━━━━━━━━━━━━━━━━\u001b[0m \u001b[32m70.6/70.6 kB\u001b[0m \u001b[31m6.8 MB/s\u001b[0m eta \u001b[36m0:00:00\u001b[0m\n",
            "\u001b[2K     \u001b[90m━━━━━━━━━━━━━━━━━━━━━━━━━━━━━━━━━━━━━━━━\u001b[0m \u001b[32m58.3/58.3 kB\u001b[0m \u001b[31m4.9 MB/s\u001b[0m eta \u001b[36m0:00:00\u001b[0m\n",
            "\u001b[?25h  Building wheel for ffmpy (setup.py) ... \u001b[?25l\u001b[?25hdone\n"
          ]
        }
      ]
    },
    {
      "cell_type": "code",
      "source": [
        "# Usual Libraries\n",
        "import os\n",
        "import pandas as pd\n",
        "import numpy as np\n",
        "import seaborn as sns\n",
        "import matplotlib.pyplot as plt\n",
        "%matplotlib inline\n",
        "import sklearn\n",
        "\n",
        "# Librosa (the mother of audio files)\n",
        "import librosa\n",
        "import librosa.display\n",
        "import IPython.display as ipd\n",
        "import warnings\n",
        "warnings.filterwarnings('ignore')"
      ],
      "metadata": {
        "id": "dhmICTxjbzER"
      },
      "execution_count": 3,
      "outputs": []
    },
    {
      "cell_type": "code",
      "source": [
        "general_path = '/content/drive/MyDrive/Data'\n",
        "print(list(os.listdir(f'{general_path}/genres_original/')))"
      ],
      "metadata": {
        "colab": {
          "base_uri": "https://localhost:8080/"
        },
        "id": "_mDYJo-ud7pW",
        "outputId": "84f330c8-9de3-4f81-e93f-69cbb96e2c28"
      },
      "execution_count": 4,
      "outputs": [
        {
          "output_type": "stream",
          "name": "stdout",
          "text": [
            "['classical', 'metal', 'hiphop', 'rock', 'pop', 'country', 'disco', 'reggae', 'blues', 'jazz']\n"
          ]
        }
      ]
    },
    {
      "cell_type": "code",
      "source": [
        "import gradio as gr\n",
        "import librosa\n",
        "import librosa.display\n",
        "import IPython.display as ipd\n",
        "import matplotlib.pyplot as plt\n",
        "import numpy as np\n",
        "from matplotlib.backends.backend_agg import FigureCanvasAgg\n",
        "import sklearn.preprocessing\n",
        "\n",
        "def normalize(x, axis=0):\n",
        "    return sklearn.preprocessing.minmax_scale(x, axis=axis)\n",
        "def plot_audio_features(file,graph):\n",
        "    # Load audio file\n",
        "    y, sr = librosa.load(file.name)\n",
        "    zero_crossing_rate = librosa.feature.zero_crossing_rate(y)[0][0]\n",
        "    tempo, _ = librosa.beat.beat_track(y=y, sr = sr)\n",
        "    if (graph==\"All\"):\n",
        "        # Compute features\n",
        "        stft = np.abs(librosa.stft(y))\n",
        "        spectral_centroids = librosa.feature.spectral_centroid(y=y, sr=sr)[0]\n",
        "        spectral_bandwidth = librosa.feature.spectral_bandwidth(y=y, sr=sr)[0]\n",
        "        rolloff = librosa.feature.spectral_rolloff(y=y, sr=sr)[0]\n",
        "        spectrogram = librosa.amplitude_to_db(stft, ref=np.max)\n",
        "        mel_spec = librosa.amplitude_to_db(librosa.feature.melspectrogram(y=y, sr=sr, n_mels=128, fmax=8000), ref=np.max)\n",
        "        harmonic_percussive = librosa.effects.hpss(y)\n",
        "        # Computing the time variable for visualization\n",
        "        frames = range(len(spectral_centroids))\n",
        "\n",
        "        # Converts frame counts to time (seconds)\n",
        "        t = librosa.frames_to_time(frames)\n",
        "        # Set up the plot\n",
        "        fig, ax = plt.subplots(nrows=7, sharex=True, figsize=(8,12))\n",
        "\n",
        "        # Plot waveform\n",
        "        librosa.display.waveshow(y, sr=sr, ax=ax[0], color='#FFB100',alpha=0.4)\n",
        "        ax[0].set(title='Waveform')\n",
        "\n",
        "        # Plot STFT\n",
        "        librosa.display.specshow(spectrogram, sr=sr, x_axis='time', y_axis='linear', ax=ax[1],cmap='coolwarm')\n",
        "        ax[1].set(title='STFT (dB)')\n",
        "\n",
        "        # Plot Spectrogram\n",
        "        librosa.display.specshow(spectrogram, sr=sr, x_axis='time', y_axis='log', ax=ax[2],cmap='coolwarm')\n",
        "        ax[2].set(title='Spectrogram (dB)')\n",
        "\n",
        "        # Plot Mel Spectrogram\n",
        "        librosa.display.specshow(mel_spec, sr=sr, x_axis='time', y_axis='mel', ax=ax[3],cmap='coolwarm')\n",
        "        ax[3].set(title='Mel Spectrogram (dB)')\n",
        "\n",
        "        # Plot Harmonics and Percussive components\n",
        "        librosa.display.waveshow(harmonic_percussive[0], sr=sr, alpha=0.4, ax=ax[4], label='Harmonic',color='#FFB100')\n",
        "        librosa.display.waveshow(harmonic_percussive[1], sr=sr, alpha=0.4, ax=ax[4], label='Percussive',color='#0F52BA')\n",
        "        ax[4].legend(loc='upper right')\n",
        "        ax[4].set(title='Harmonics and Percussive')\n",
        "        #Plot the spectral centroids\n",
        "        librosa.display.waveshow(y, sr=sr, alpha=0.4, color='#FFB100', ax=ax[5])\n",
        "        ax[5].set(title='Waveform + Spectral centroids')\n",
        "        ax[5].plot(t, normalize(spectral_centroids), color='#0F52BA',linewidth=0.7)\n",
        "        #Plot the spectral RollOff\n",
        "        librosa.display.waveshow(y, sr=sr, alpha=0.4, color='#FFB100', ax=ax[6])\n",
        "        frames = range(len(rolloff))\n",
        "        t = librosa.frames_to_time(frames)\n",
        "        ax[6].set(title='Waveform + Spectral RollOff')\n",
        "        ax[6].plot(t, normalize(rolloff), color='#0F52BA',linewidth=0.7)\n",
        "        # Add space between subplots\n",
        "\n",
        "        plt.subplots_adjust(hspace=0.7)\n",
        "        canvas = FigureCanvasAgg(fig)\n",
        "        canvas.draw()\n",
        "        plot_image = np.array(canvas.renderer.buffer_rgba())\n",
        "        plt.close(fig)\n",
        "    elif (graph==\"Waveform\"):\n",
        "        # Set up the plot\n",
        "        fig, ax = plt.subplots(nrows=1, sharex=True, figsize=(16,6))\n",
        "        # Plot waveform\n",
        "        librosa.display.waveshow(y, sr=sr, color='#FFB100',alpha=0.4)\n",
        "        plt.title('Waveform', fontsize = 23)\n",
        "        canvas = FigureCanvasAgg(fig)\n",
        "        canvas.draw()\n",
        "        plot_image = np.array(canvas.renderer.buffer_rgba())\n",
        "        plt.close(fig)\n",
        "    elif (graph==\"Short-time Fourier Transform (STFT)\"):\n",
        "        # Set up the plot\n",
        "        fig, ax = plt.subplots(nrows=1, sharex=True, figsize=(16,6))\n",
        "        stft = np.abs(librosa.stft(y))\n",
        "        # Plot STFT\n",
        "        plt.plot(stft)\n",
        "        plt.title('STFT (dB)', fontsize = 23)\n",
        "        canvas = FigureCanvasAgg(fig)\n",
        "        canvas.draw()\n",
        "        plot_image = np.array(canvas.renderer.buffer_rgba())\n",
        "        plt.close(fig)\n",
        "    elif (graph==\"Spectrogram\"):\n",
        "        # Set up the plot\n",
        "        fig, ax = plt.subplots(nrows=1, sharex=True, figsize=(16,6))\n",
        "        stft = np.abs(librosa.stft(y))\n",
        "        spectrogram = librosa.amplitude_to_db(stft, ref=np.max)\n",
        "        \n",
        "        # Plot spectrogram\n",
        "        librosa.display.specshow(spectrogram, sr=sr, x_axis='time', y_axis='log',cmap='coolwarm')\n",
        "        plt.title('Spectrogram (dB)', fontsize = 23)\n",
        "        canvas = FigureCanvasAgg(fig)\n",
        "        canvas.draw()\n",
        "        plot_image = np.array(canvas.renderer.buffer_rgba())\n",
        "        plt.close(fig)\n",
        "    elif (graph==\"Mel Spectrogram\"):\n",
        "        # Set up the plot\n",
        "        fig, ax = plt.subplots(nrows=1, sharex=True, figsize=(16,6))\n",
        "        mel_spec = librosa.amplitude_to_db(librosa.feature.melspectrogram(y=y, sr=sr, n_mels=128, fmax=8000), ref=np.max)\n",
        "        # Plot Mel spectrogram\n",
        "        librosa.display.specshow(mel_spec, sr=sr, x_axis='time', y_axis='log', cmap='coolwarm')\n",
        "        plt.title('Mel Spectrogram (dB)', fontsize = 23)\n",
        "        canvas = FigureCanvasAgg(fig)\n",
        "        canvas.draw()\n",
        "        plot_image = np.array(canvas.renderer.buffer_rgba())\n",
        "        plt.close(fig)\n",
        "    elif (graph==\"Harmonics and Percussives\"):\n",
        "        # Set up the plot\n",
        "        fig, ax = plt.subplots(nrows=1, sharex=True, figsize=(16,6))\n",
        "        harmonic_percussive = librosa.effects.hpss(y)\n",
        "        # Plot Mel spectrogram\n",
        "        librosa.display.waveshow(harmonic_percussive[0], sr=sr, alpha=0.4,  label='Harmonic',color='#FFB100')\n",
        "        librosa.display.waveshow(harmonic_percussive[1], sr=sr, alpha=0.4,  label='Percussive',color='#0F52BA')\n",
        "        plt.legend(loc='upper right')\n",
        "        plt.title('Harmonics and Percussive', fontsize = 23)\n",
        "        canvas = FigureCanvasAgg(fig)\n",
        "        canvas.draw()\n",
        "        plot_image = np.array(canvas.renderer.buffer_rgba())\n",
        "        plt.close(fig)\n",
        "    elif (graph==\"Spectral Centroids\"):\n",
        "        # Set up the plot\n",
        "        fig, ax = plt.subplots(nrows=1, sharex=True, figsize=(16,6))\n",
        "        spectral_centroids = librosa.feature.spectral_centroid(y=y, sr=sr)[0]\n",
        "        # Computing the time variable for visualization\n",
        "        frames = range(len(spectral_centroids))\n",
        "\n",
        "        # Converts frame counts to time (seconds)\n",
        "        t = librosa.frames_to_time(frames)\n",
        "        # Plot Mel spectrogram\n",
        "        librosa.display.waveshow(y, sr=sr, alpha=0.4, color='#FFB100')\n",
        "        plt.plot(t, normalize(spectral_centroids), color='#0F52BA',linewidth=0.7)\n",
        "        plt.title('Waveform + Spectral centroids', fontsize = 23)\n",
        "        canvas = FigureCanvasAgg(fig)\n",
        "        canvas.draw()\n",
        "        plot_image = np.array(canvas.renderer.buffer_rgba())\n",
        "        plt.close(fig)\n",
        "    elif (graph==\"Spectral Rolloffs\"):\n",
        "        # Set up the plot\n",
        "        fig, ax = plt.subplots(nrows=1, sharex=True, figsize=(16,6))\n",
        "        rolloff = librosa.feature.spectral_rolloff(y=y, sr=sr)[0]\n",
        "        # Computing the time variable for visualization\n",
        "        frames = range(len(rolloff))\n",
        "\n",
        "        # Converts frame counts to time (seconds)\n",
        "        t = librosa.frames_to_time(frames)\n",
        "        # Plot Mel spectrogram\n",
        "        librosa.display.waveshow(y, sr=sr, alpha=0.4, color='#FFB100')\n",
        "        plt.plot(t, normalize(rolloff), color='#0F52BA',linewidth=0.7)\n",
        "        plt.title('Waveform + Spectral RollOff', fontsize = 23)\n",
        "        canvas = FigureCanvasAgg(fig)\n",
        "        canvas.draw()\n",
        "        plot_image = np.array(canvas.renderer.buffer_rgba())\n",
        "        plt.close(fig)\n",
        "    return plot_image, zero_crossing_rate, tempo\n",
        "\n",
        "\n",
        "graph_options = [\"All\", \"Waveform\", \"Short-time Fourier Transform (STFT)\", \"Spectrogram\", \"Mel Spectrogram\", \"Harmonics and Percussives\", \"Spectral Centroids\", \"Spectral Rolloffs\"]\n",
        "graph_dropdown = gr.inputs.Dropdown(graph_options, label=\"Select a graph to display\")\n",
        "im=gr.outputs.Image(type=\"numpy\", label=\"Graphs\")\n",
        "inputs = [gr.inputs.File(label=\"Upload audio file (WAV format)\"), graph_dropdown]\n",
        "outputs = [im, gr.outputs.Label(label=\"Zero Crossing Rate\"),gr.outputs.Label(label=\"Tempo\")]\n",
        "title = \"Audio Analysis Dashboard\"\n",
        "description = \"## Audio Feature Analysis\\n\\nUpload an audio file to visualize the following features:- Waveform- Short-time Fourier Transform (STFT)- Spectrogram- Mel Spectrogram- Harmonics and Percussives- Spectral Centroids- Spectral Rolloffs\"\n",
        "gr.Interface(fn=plot_audio_features, inputs=inputs, outputs=outputs, title=title, description=description).launch()\n"
      ],
      "metadata": {
        "colab": {
          "base_uri": "https://localhost:8080/",
          "height": 879
        },
        "id": "ziR6Xvyu-0MS",
        "outputId": "e8e1204b-4c3f-415e-f5ec-827f673893fa"
      },
      "execution_count": 55,
      "outputs": [
        {
          "output_type": "stream",
          "name": "stderr",
          "text": [
            "/usr/local/lib/python3.10/dist-packages/gradio/inputs.py:219: UserWarning: Usage of gradio.inputs is deprecated, and will not be supported in the future, please import your component from gradio.components\n",
            "  warnings.warn(\n",
            "/usr/local/lib/python3.10/dist-packages/gradio/deprecation.py:40: UserWarning: `optional` parameter is deprecated, and it has no effect\n",
            "  warnings.warn(value)\n",
            "/usr/local/lib/python3.10/dist-packages/gradio/outputs.py:43: UserWarning: Usage of gradio.outputs is deprecated, and will not be supported in the future, please import your components from gradio.components\n",
            "  warnings.warn(\n",
            "/usr/local/lib/python3.10/dist-packages/gradio/inputs.py:349: UserWarning: Usage of gradio.inputs is deprecated, and will not be supported in the future, please import your components from gradio.components\n",
            "  warnings.warn(\n",
            "/usr/local/lib/python3.10/dist-packages/gradio/deprecation.py:40: UserWarning: `keep_filename` parameter is deprecated, and it has no effect\n",
            "  warnings.warn(value)\n",
            "/usr/local/lib/python3.10/dist-packages/gradio/outputs.py:197: UserWarning: Usage of gradio.outputs is deprecated, and will not be supported in the future, please import your components from gradio.components\n",
            "  warnings.warn(\n",
            "/usr/local/lib/python3.10/dist-packages/gradio/deprecation.py:40: UserWarning: The 'type' parameter has been deprecated. Use the Number component instead.\n",
            "  warnings.warn(value)\n"
          ]
        },
        {
          "output_type": "stream",
          "name": "stdout",
          "text": [
            "Colab notebook detected. To show errors in colab notebook, set debug=True in launch()\n",
            "Note: opening Chrome Inspector may crash demo inside Colab notebooks.\n",
            "\n",
            "To create a public link, set `share=True` in `launch()`.\n"
          ]
        },
        {
          "output_type": "display_data",
          "data": {
            "text/plain": [
              "<IPython.core.display.Javascript object>"
            ],
            "application/javascript": [
              "(async (port, path, width, height, cache, element) => {\n",
              "                        if (!google.colab.kernel.accessAllowed && !cache) {\n",
              "                            return;\n",
              "                        }\n",
              "                        element.appendChild(document.createTextNode(''));\n",
              "                        const url = await google.colab.kernel.proxyPort(port, {cache});\n",
              "\n",
              "                        const external_link = document.createElement('div');\n",
              "                        external_link.innerHTML = `\n",
              "                            <div style=\"font-family: monospace; margin-bottom: 0.5rem\">\n",
              "                                Running on <a href=${new URL(path, url).toString()} target=\"_blank\">\n",
              "                                    https://localhost:${port}${path}\n",
              "                                </a>\n",
              "                            </div>\n",
              "                        `;\n",
              "                        element.appendChild(external_link);\n",
              "\n",
              "                        const iframe = document.createElement('iframe');\n",
              "                        iframe.src = new URL(path, url).toString();\n",
              "                        iframe.height = height;\n",
              "                        iframe.allow = \"autoplay; camera; microphone; clipboard-read; clipboard-write;\"\n",
              "                        iframe.width = width;\n",
              "                        iframe.style.border = 0;\n",
              "                        element.appendChild(iframe);\n",
              "                    })(7898, \"/\", \"100%\", 500, false, window.element)"
            ]
          },
          "metadata": {}
        },
        {
          "output_type": "execute_result",
          "data": {
            "text/plain": []
          },
          "metadata": {},
          "execution_count": 55
        }
      ]
    },
    {
      "cell_type": "code",
      "source": [
        "f = open('/content/drive/MyDrive/Data/genres_original/classical/classical.00035.wav', \"r\")\n",
        "plot_audio_features(f,\"Spectral Rolloffs\")"
      ],
      "metadata": {
        "colab": {
          "base_uri": "https://localhost:8080/"
        },
        "id": "nvCJikM-ulQu",
        "outputId": "e25eda2d-2ed8-45c0-ec0d-f9d87cb2b675"
      },
      "execution_count": 56,
      "outputs": [
        {
          "output_type": "execute_result",
          "data": {
            "text/plain": [
              "(array([[[255, 255, 255, 255],\n",
              "         [255, 255, 255, 255],\n",
              "         [255, 255, 255, 255],\n",
              "         ...,\n",
              "         [255, 255, 255, 255],\n",
              "         [255, 255, 255, 255],\n",
              "         [255, 255, 255, 255]],\n",
              " \n",
              "        [[255, 255, 255, 255],\n",
              "         [255, 255, 255, 255],\n",
              "         [255, 255, 255, 255],\n",
              "         ...,\n",
              "         [255, 255, 255, 255],\n",
              "         [255, 255, 255, 255],\n",
              "         [255, 255, 255, 255]],\n",
              " \n",
              "        [[255, 255, 255, 255],\n",
              "         [255, 255, 255, 255],\n",
              "         [255, 255, 255, 255],\n",
              "         ...,\n",
              "         [255, 255, 255, 255],\n",
              "         [255, 255, 255, 255],\n",
              "         [255, 255, 255, 255]],\n",
              " \n",
              "        ...,\n",
              " \n",
              "        [[255, 255, 255, 255],\n",
              "         [255, 255, 255, 255],\n",
              "         [255, 255, 255, 255],\n",
              "         ...,\n",
              "         [255, 255, 255, 255],\n",
              "         [255, 255, 255, 255],\n",
              "         [255, 255, 255, 255]],\n",
              " \n",
              "        [[255, 255, 255, 255],\n",
              "         [255, 255, 255, 255],\n",
              "         [255, 255, 255, 255],\n",
              "         ...,\n",
              "         [255, 255, 255, 255],\n",
              "         [255, 255, 255, 255],\n",
              "         [255, 255, 255, 255]],\n",
              " \n",
              "        [[255, 255, 255, 255],\n",
              "         [255, 255, 255, 255],\n",
              "         [255, 255, 255, 255],\n",
              "         ...,\n",
              "         [255, 255, 255, 255],\n",
              "         [255, 255, 255, 255],\n",
              "         [255, 255, 255, 255]]], dtype=uint8),\n",
              " 0.04150390625,\n",
              " 151.99908088235293)"
            ]
          },
          "metadata": {},
          "execution_count": 56
        }
      ]
    }
  ]
}